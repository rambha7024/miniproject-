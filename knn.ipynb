{
  "nbformat": 4,
  "nbformat_minor": 0,
  "metadata": {
    "colab": {
      "provenance": [],
      "authorship_tag": "ABX9TyPhxE+B/qa394hpHCcC/wqo",
      "include_colab_link": true
    },
    "kernelspec": {
      "name": "python3",
      "display_name": "Python 3"
    },
    "language_info": {
      "name": "python"
    }
  },
  "cells": [
    {
      "cell_type": "markdown",
      "metadata": {
        "id": "view-in-github",
        "colab_type": "text"
      },
      "source": [
        "<a href=\"https://colab.research.google.com/github/rambha7024/miniproject-/blob/main/knn.ipynb\" target=\"_parent\"><img src=\"https://colab.research.google.com/assets/colab-badge.svg\" alt=\"Open In Colab\"/></a>"
      ]
    },
    {
      "cell_type": "code",
      "execution_count": 2,
      "metadata": {
        "id": "DeQwqeZwwpEb"
      },
      "outputs": [],
      "source": [
        "import pandas as pd\n",
        "import numpy as np\n",
        "\n",
        "# Load the dataset\n",
        "df_courses = pd.read_csv('/content/udemy_courses.csv')\n",
        "\n",
        "# Convert the published_timestamp column to datetime format\n",
        "df_courses['published_timestamp'] = pd.to_datetime(df_courses['published_timestamp'])\n",
        "\n",
        "# Extract the year from the published_timestamp column\n",
        "df_courses['year'] = df_courses['published_timestamp'].dt.year\n",
        "\n",
        "# Create a new column 'rating' with a random rating for each course (for demonstration purposes)\n",
        "df_courses['rating'] = np.random.randint(1, 6, size=len(df_courses))\n",
        "\n",
        "# Create a new column 'user_id' with a random user ID for each course (for demonstration purposes)\n",
        "df_courses['user_id'] = np.random.randint(1, 100, size=len(df_courses))"
      ]
    },
    {
      "cell_type": "code",
      "source": [
        "# Create a user-item matrix\n",
        "user_item_matrix = pd.pivot_table(df_courses, index='user_id', columns='course_id', values='rating').fillna(0)"
      ],
      "metadata": {
        "id": "O6qIMofIxCMl"
      },
      "execution_count": 3,
      "outputs": []
    },
    {
      "cell_type": "code",
      "source": [
        "# Normalize the matrix\n",
        "mean_user_rating = np.mean(user_item_matrix, axis=1)\n",
        "# Convert the Series to a NumPy array and then reshape\n",
        "mean_user_rating_np = mean_user_rating.to_numpy().reshape(-1, 1)\n",
        "normalized_matrix = user_item_matrix - mean_user_rating_np"
      ],
      "metadata": {
        "id": "B6742IqsxVEo"
      },
      "execution_count": 4,
      "outputs": []
    },
    {
      "cell_type": "code",
      "source": [
        "from sklearn.neighbors import NearestNeighbors\n",
        "\n",
        "# Fit the KNN model\n",
        "knn = NearestNeighbors(metric='cosine', algorithm='brute')\n",
        "knn.fit(normalized_matrix)\n",
        "\n",
        "# Find the k nearest neighbors\n",
        "# Get the index label of the first row (if you want the 'first' user)\n",
        "target_user_index = normalized_matrix.index[0]\n",
        "distances, indices = knn.kneighbors(normalized_matrix.loc[[target_user_index]].values.reshape(1, -1), n_neighbors=3)\n",
        "print(distances, indices)"
      ],
      "metadata": {
        "colab": {
          "base_uri": "https://localhost:8080/"
        },
        "id": "Vm3nJMxnylJa",
        "outputId": "18c581a9-76ca-407f-9faf-7171011fd255"
      },
      "execution_count": 5,
      "outputs": [
        {
          "output_type": "stream",
          "name": "stdout",
          "text": [
            "[[1.05471187e-14 1.00671104e+00 1.00698736e+00]] [[ 0 28  1]]\n"
          ]
        }
      ]
    },
    {
      "cell_type": "code",
      "source": [
        "# Aggregate ratings from neighbors\n",
        "neighbors_ratings = user_item_matrix.iloc[indices.flatten()] # Use .iloc to select rows based on integer position\n",
        "predicted_ratings = neighbors_ratings.mean(axis=0)"
      ],
      "metadata": {
        "id": "d2s0rIXhy1r8"
      },
      "execution_count": 6,
      "outputs": []
    },
    {
      "cell_type": "code",
      "source": [
        "# Recommend items\n",
        "# Use .iloc to select the row corresponding to the target user\n",
        "unrated_items = np.where(user_item_matrix.iloc[target_user_index] == 0)[0]\n",
        "# Access predicted ratings using the integer positions from unrated_items\n",
        "recommended_items = unrated_items[np.argsort(predicted_ratings.iloc[unrated_items])[::-1]]\n",
        "print(f\"Recommended items for user {target_user_index}: {recommended_items}\")"
      ],
      "metadata": {
        "colab": {
          "base_uri": "https://localhost:8080/"
        },
        "id": "muj0z1VVzez3",
        "outputId": "24145e8d-86dc-46b1-d8a7-339cfcfa964f"
      },
      "execution_count": 7,
      "outputs": [
        {
          "output_type": "stream",
          "name": "stdout",
          "text": [
            "Recommended items for user 1: [3300 1264  266 ... 2427 2426    0]\n"
          ]
        }
      ]
    },
    {
      "cell_type": "code",
      "source": [
        "# app.py\n",
        "from flask import Flask, render_template\n",
        "\n",
        "app = Flask(__name__)\n",
        "\n",
        "@app.route('/')\n",
        "def index():\n",
        "    name = 'John Doe'\n",
        "    return render_template('webpage12.html', name=name)\n",
        "\n",
        "if __name__ == '__main__':\n",
        "    app.run(debug=True)"
      ],
      "metadata": {
        "colab": {
          "base_uri": "https://localhost:8080/"
        },
        "id": "GR-w54YBziES",
        "outputId": "73dc1a22-06b0-4b36-9cb5-138689f7b2bb"
      },
      "execution_count": null,
      "outputs": [
        {
          "metadata": {
            "tags": null
          },
          "name": "stdout",
          "output_type": "stream",
          "text": [
            " * Serving Flask app '__main__'\n",
            " * Debug mode: on\n"
          ]
        },
        {
          "metadata": {
            "tags": null
          },
          "name": "stderr",
          "output_type": "stream",
          "text": [
            "INFO:werkzeug:\u001b[31m\u001b[1mWARNING: This is a development server. Do not use it in a production deployment. Use a production WSGI server instead.\u001b[0m\n",
            " * Running on http://127.0.0.1:5000\n",
            "INFO:werkzeug:\u001b[33mPress CTRL+C to quit\u001b[0m\n",
            "INFO:werkzeug: * Restarting with stat\n"
          ]
        }
      ]
    }
  ]
}