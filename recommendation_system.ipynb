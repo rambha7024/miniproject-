{
  "nbformat": 4,
  "nbformat_minor": 0,
  "metadata": {
    "colab": {
      "provenance": [],
      "authorship_tag": "ABX9TyP61cLza0/+7UUZWPJL2aW3",
      "include_colab_link": true
    },
    "kernelspec": {
      "name": "python3",
      "display_name": "Python 3"
    },
    "language_info": {
      "name": "python"
    }
  },
  "cells": [
    {
      "cell_type": "markdown",
      "metadata": {
        "id": "view-in-github",
        "colab_type": "text"
      },
      "source": [
        "<a href=\"https://colab.research.google.com/github/rambha7024/miniproject-/blob/main/recommendation_system.ipynb\" target=\"_parent\"><img src=\"https://colab.research.google.com/assets/colab-badge.svg\" alt=\"Open In Colab\"/></a>"
      ]
    },
    {
      "cell_type": "code",
      "execution_count": null,
      "metadata": {
        "colab": {
          "base_uri": "https://localhost:8080/"
        },
        "id": "_8emBTXC0x1g",
        "outputId": "36da34c0-5a58-4530-e2e1-2320b2970a1e"
      },
      "outputs": [
        {
          "output_type": "stream",
          "name": "stdout",
          "text": [
            "2681    477702\n",
            "3138    631128\n",
            "536     529828\n",
            "2497     16646\n",
            "3343    523312\n",
            "Name: course_id, dtype: int64\n"
          ]
        }
      ],
      "source": [
        "import pandas as pd\n",
        "from sklearn.feature_extraction.text import TfidfVectorizer\n",
        "from sklearn.neighbors import NearestNeighbors\n",
        "from sklearn.metrics.pairwise import cosine_similarity\n",
        "\n",
        "# Load the Udemy courses dataset\n",
        "courses_df = pd.read_csv('/content/udemy_courses.csv')\n",
        "\n",
        "# Create a TF-IDF vectorizer to convert course descriptions into numerical vectors\n",
        "vectorizer = TfidfVectorizer(stop_words='english')\n",
        "\n",
        "# Fit the vectorizer to the course descriptions and transform them into vectors\n",
        "course_vectors = vectorizer.fit_transform(courses_df['course_title'])\n",
        "\n",
        "# Create a KNN model with k=5\n",
        "knn = NearestNeighbors(n_neighbors=5, algorithm='brute', metric='cosine')\n",
        "\n",
        "# Fit the KNN model to the course vectors\n",
        "knn.fit(course_vectors)\n",
        "\n",
        "def recommend_courses(keywords):\n",
        "    # Convert the keywords into a TF-IDF vector\n",
        "    keyword_vector = vectorizer.transform([keywords])\n",
        "\n",
        "    # Get the k-nearest neighbors to the keyword vector\n",
        "    distances, indices = knn.kneighbors(keyword_vector)\n",
        "\n",
        "    # Get the course IDs of the k-nearest neighbors\n",
        "    course_id = courses_df.iloc[indices[0]]['course_id']\n",
        "\n",
        "    # Return the recommended courses\n",
        "    return course_id\n",
        "\n",
        "# Example usage:\n",
        "keywords = \"machine learning python\"\n",
        "recommended_courses = recommend_courses(keywords)\n",
        "print(recommended_courses)"
      ]
    }
  ]
}